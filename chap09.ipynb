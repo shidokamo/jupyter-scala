{
 "cells": [
  {
   "cell_type": "markdown",
   "metadata": {},
   "source": [
    "# 9章 制御の抽象化"
   ]
  },
  {
   "cell_type": "markdown",
   "metadata": {},
   "source": [
    "## 新しい制御構造を作る例\n",
    "似たようなことの繰り返しを、まるで言語の構文でサポートされているかのように見せる。\n",
    "\n",
    "関数が第1級だからこそできることらしい。"
   ]
  },
  {
   "cell_type": "code",
   "execution_count": 5,
   "metadata": {},
   "outputs": [
    {
     "data": {
      "text/plain": [
       "\u001b[36ma\u001b[39m: \u001b[32mInt\u001b[39m = \u001b[32m1\u001b[39m\n",
       "\u001b[36mres4_1\u001b[39m: \u001b[32mInt\u001b[39m = \u001b[32m3\u001b[39m\n",
       "\u001b[36mres4_2\u001b[39m: \u001b[32mInt\u001b[39m = \u001b[32m64\u001b[39m"
      ]
     },
     "execution_count": 5,
     "metadata": {},
     "output_type": "execute_result"
    }
   ],
   "source": [
    "// こんな風に、同じ処理を二回繰り返すコードがあるとする。\n",
    "// これをもっとスマートに見せてコードを削減したい。\n",
    "\n",
    "val a = 1\n",
    "a + 1 + 1\n",
    "a * 8 * 8"
   ]
  },
  {
   "cell_type": "code",
   "execution_count": 7,
   "metadata": {},
   "outputs": [
    {
     "data": {
      "text/plain": [
       "defined \u001b[32mfunction\u001b[39m \u001b[36mtwice\u001b[39m"
      ]
     },
     "execution_count": 7,
     "metadata": {},
     "output_type": "execute_result"
    }
   ],
   "source": [
    "// 同じ関数を二度適用するメソッドを作る。\n",
    "\n",
    "def twice(x: Double, op: Double => Double) = op(op(x))"
   ]
  },
  {
   "cell_type": "code",
   "execution_count": 8,
   "metadata": {
    "scrolled": true
   },
   "outputs": [
    {
     "data": {
      "text/plain": [
       "\u001b[36mres7\u001b[39m: \u001b[32mDouble\u001b[39m = \u001b[32m7.0\u001b[39m"
      ]
     },
     "execution_count": 8,
     "metadata": {},
     "output_type": "execute_result"
    }
   ],
   "source": [
    "// このメソッドに関数を渡すとあら不思議、\n",
    "// まるで、新しい制御構造のようなものができる。\n",
    "\n",
    "twice(5, _ + 1)"
   ]
  },
  {
   "cell_type": "code",
   "execution_count": 9,
   "metadata": {},
   "outputs": [
    {
     "data": {
      "text/plain": [
       "\u001b[36mres8\u001b[39m: \u001b[32mDouble\u001b[39m = \u001b[32m128.0\u001b[39m"
      ]
     },
     "execution_count": 9,
     "metadata": {},
     "output_type": "execute_result"
    }
   ],
   "source": [
    "twice(2, _ * 8)"
   ]
  },
  {
   "cell_type": "markdown",
   "metadata": {},
   "source": [
    "## 中括弧の使用\n",
    "ある条件では、中括弧をかっこのかわりに使うことが許される。\n",
    "これによって、より制御構文らしくなる。"
   ]
  },
  {
   "cell_type": "code",
   "execution_count": 10,
   "metadata": {},
   "outputs": [
    {
     "data": {
      "text/plain": [
       "\u001b[32mimport \u001b[39m\u001b[36mjava.io._\n",
       "\u001b[39m\n",
       "defined \u001b[32mfunction\u001b[39m \u001b[36mwithPrintWriter\u001b[39m"
      ]
     },
     "execution_count": 10,
     "metadata": {},
     "output_type": "execute_result"
    }
   ],
   "source": [
    "// リソースの操作をするメソッドを定義してみる。\n",
    "// (エラーが出ても必ずクローズされるようにするのが目的)\n",
    "import java.io._\n",
    "def withPrintWriter(file: File, op: PrintWriter => Unit) = {\n",
    "    val writer = new PrintWriter(file)\n",
    "    try {\n",
    "        op(writer)\n",
    "    } finally {\n",
    "        writer.close()\n",
    "    }\n",
    "}"
   ]
  },
  {
   "cell_type": "code",
   "execution_count": 11,
   "metadata": {},
   "outputs": [],
   "source": [
    "// 以下のように使える（これではまだ制御構文っぽくない。\n",
    "withPrintWriter(\n",
    "    new File(\"tmp.txt\"),\n",
    "    writer => writer.println(new java.util.Date)\n",
    ")"
   ]
  },
  {
   "cell_type": "markdown",
   "metadata": {},
   "source": [
    "ちなみに、このような場合、関数にリスースを貸し出すので、ローンパターンと言うらしい。\n",
    "上の例では、op に、PrintWriter を貸し出している。"
   ]
  },
  {
   "cell_type": "code",
   "execution_count": 12,
   "metadata": {},
   "outputs": [
    {
     "data": {
      "text/plain": [
       "\u001b[32mimport \u001b[39m\u001b[36mjava.io\n",
       "\u001b[39m\n",
       "defined \u001b[32mfunction\u001b[39m \u001b[36mwithPrintWriter\u001b[39m"
      ]
     },
     "execution_count": 12,
     "metadata": {},
     "output_type": "execute_result"
    }
   ],
   "source": [
    "// さらに、面白くするためにカリー化をする。\n",
    "import java.io\n",
    "def withPrintWriter(file: File)(op: PrintWriter => Unit) = {\n",
    "    val writer = new PrintWriter(file)\n",
    "    try {\n",
    "        op(writer)\n",
    "    } finally {\n",
    "        writer.close()\n",
    "    }\n",
    "}"
   ]
  },
  {
   "cell_type": "code",
   "execution_count": 13,
   "metadata": {
    "scrolled": true
   },
   "outputs": [
    {
     "data": {
      "text/plain": [
       "\u001b[32mimport \u001b[39m\u001b[36mjava.io\n",
       "\u001b[39m\n",
       "\u001b[36mfile\u001b[39m: \u001b[32mFile\u001b[39m = tmp.txt"
      ]
     },
     "execution_count": 13,
     "metadata": {},
     "output_type": "execute_result"
    }
   ],
   "source": [
    "// 引数がひとつの場合のメソッド呼び出しには、\n",
    "// 中括弧が使えるというシンタックス\n",
    "import java.io\n",
    "val file = new File(\"tmp.txt\")                                                                                                                                                                         \n",
    "withPrintWriter(file) { writer =>\n",
    "   writer.println(new java.util.Date)\n",
    "}"
   ]
  },
  {
   "cell_type": "code",
   "execution_count": 14,
   "metadata": {
    "scrolled": true
   },
   "outputs": [
    {
     "data": {
      "text/plain": [
       "\u001b[32mimport \u001b[39m\u001b[36mjava.io\n",
       "\u001b[39m\n",
       "\u001b[36mfile\u001b[39m: \u001b[32mFile\u001b[39m = tmp.txt"
      ]
     },
     "execution_count": 14,
     "metadata": {},
     "output_type": "execute_result"
    }
   ],
   "source": [
    "// そしてさらにこうすることができる！\n",
    "import java.io\n",
    "val file = new File(\"tmp.txt\")                                                                                                                                                                         \n",
    "withPrintWriter(file) {\n",
    "   _.println(new java.util.Date)\n",
    "}"
   ]
  },
  {
   "cell_type": "markdown",
   "metadata": {},
   "source": [
    "ポイントは\n",
    "* 引数がひとつだけの呼び出しは、中括弧を使うことができる。これで制御構文らしくなる。\n",
    "* 引数が複数なければならない場合でも、カリー化によって呼び出しをチェーンに変更して、中括弧を使える。\n",
    "* 関数値の引数が一回しか使われない場合、簡略化した記法をしようできる。"
   ]
  },
  {
   "cell_type": "code",
   "execution_count": null,
   "metadata": {},
   "outputs": [],
   "source": []
  }
 ],
 "metadata": {
  "kernelspec": {
   "display_name": "Scala",
   "language": "scala",
   "name": "scala"
  },
  "language_info": {
   "codemirror_mode": "text/x-scala",
   "file_extension": ".scala",
   "mimetype": "text/x-scala",
   "name": "scala",
   "nbconvert_exporter": "script",
   "version": "2.12.9"
  }
 },
 "nbformat": 4,
 "nbformat_minor": 2
}

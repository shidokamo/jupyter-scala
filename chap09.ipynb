{
 "cells": [
  {
   "cell_type": "markdown",
   "metadata": {},
   "source": [
    "# 9章 制御の抽象化"
   ]
  },
  {
   "cell_type": "markdown",
   "metadata": {},
   "source": [
    "## 新しい制御構造を作る例\n",
    "似たようなことの繰り返しを、まるで言語の構文でサポートされているかのように見せる。\n",
    "\n",
    "関数が第1級だからこそできることらしい。"
   ]
  },
  {
   "cell_type": "code",
   "execution_count": 5,
   "metadata": {},
   "outputs": [
    {
     "data": {
      "text/plain": [
       "\u001b[36ma\u001b[39m: \u001b[32mInt\u001b[39m = \u001b[32m1\u001b[39m\n",
       "\u001b[36mres4_1\u001b[39m: \u001b[32mInt\u001b[39m = \u001b[32m3\u001b[39m\n",
       "\u001b[36mres4_2\u001b[39m: \u001b[32mInt\u001b[39m = \u001b[32m64\u001b[39m"
      ]
     },
     "execution_count": 5,
     "metadata": {},
     "output_type": "execute_result"
    }
   ],
   "source": [
    "// こんな風に、同じ処理を二回繰り返すコードがあるとする。\n",
    "// これをもっとスマートに見せてコードを削減したい。\n",
    "\n",
    "val a = 1\n",
    "a + 1 + 1\n",
    "a * 8 * 8"
   ]
  },
  {
   "cell_type": "code",
   "execution_count": 7,
   "metadata": {},
   "outputs": [
    {
     "data": {
      "text/plain": [
       "defined \u001b[32mfunction\u001b[39m \u001b[36mtwice\u001b[39m"
      ]
     },
     "execution_count": 7,
     "metadata": {},
     "output_type": "execute_result"
    }
   ],
   "source": [
    "// 同じ関数を二度適用するメソッドを作る。\n",
    "\n",
    "def twice(x: Double, op: Double => Double) = op(op(x))"
   ]
  },
  {
   "cell_type": "code",
   "execution_count": 8,
   "metadata": {
    "scrolled": true
   },
   "outputs": [
    {
     "data": {
      "text/plain": [
       "\u001b[36mres7\u001b[39m: \u001b[32mDouble\u001b[39m = \u001b[32m7.0\u001b[39m"
      ]
     },
     "execution_count": 8,
     "metadata": {},
     "output_type": "execute_result"
    }
   ],
   "source": [
    "// このメソッドに関数を渡すとあら不思議、\n",
    "// まるで、新しい制御構造のようなものができる。\n",
    "\n",
    "twice(5, _ + 1)"
   ]
  },
  {
   "cell_type": "code",
   "execution_count": 9,
   "metadata": {},
   "outputs": [
    {
     "data": {
      "text/plain": [
       "\u001b[36mres8\u001b[39m: \u001b[32mDouble\u001b[39m = \u001b[32m128.0\u001b[39m"
      ]
     },
     "execution_count": 9,
     "metadata": {},
     "output_type": "execute_result"
    }
   ],
   "source": [
    "twice(2, _ * 8)"
   ]
  },
  {
   "cell_type": "markdown",
   "metadata": {},
   "source": [
    "## 中括弧の使用\n",
    "ある条件では、中括弧をかっこのかわりに使うことが許される。\n",
    "これによって、より制御構文らしくなる。"
   ]
  },
  {
   "cell_type": "code",
   "execution_count": 10,
   "metadata": {},
   "outputs": [
    {
     "data": {
      "text/plain": [
       "\u001b[32mimport \u001b[39m\u001b[36mjava.io._\n",
       "\u001b[39m\n",
       "defined \u001b[32mfunction\u001b[39m \u001b[36mwithPrintWriter\u001b[39m"
      ]
     },
     "execution_count": 10,
     "metadata": {},
     "output_type": "execute_result"
    }
   ],
   "source": [
    "// リソースの操作をするメソッドを定義してみる。\n",
    "// (エラーが出ても必ずクローズされるようにするのが目的)\n",
    "import java.io._\n",
    "def withPrintWriter(file: File, op: PrintWriter => Unit) = {\n",
    "    val writer = new PrintWriter(file)\n",
    "    try {\n",
    "        op(writer)\n",
    "    } finally {\n",
    "        writer.close()\n",
    "    }\n",
    "}"
   ]
  },
  {
   "cell_type": "code",
   "execution_count": 11,
   "metadata": {},
   "outputs": [],
   "source": [
    "// 以下のように使える（これではまだ制御構文っぽくない。\n",
    "withPrintWriter(\n",
    "    new File(\"tmp.txt\"),\n",
    "    writer => writer.println(new java.util.Date)\n",
    ")"
   ]
  },
  {
   "cell_type": "markdown",
   "metadata": {},
   "source": [
    "ちなみに、このような場合、関数にリスースを貸し出すので、ローンパターンと言うらしい。\n",
    "上の例では、op に、PrintWriter を貸し出している。"
   ]
  },
  {
   "cell_type": "code",
   "execution_count": 12,
   "metadata": {},
   "outputs": [
    {
     "data": {
      "text/plain": [
       "\u001b[32mimport \u001b[39m\u001b[36mjava.io\n",
       "\u001b[39m\n",
       "defined \u001b[32mfunction\u001b[39m \u001b[36mwithPrintWriter\u001b[39m"
      ]
     },
     "execution_count": 12,
     "metadata": {},
     "output_type": "execute_result"
    }
   ],
   "source": [
    "// さらに、面白くするためにカリー化をする。\n",
    "import java.io\n",
    "def withPrintWriter(file: File)(op: PrintWriter => Unit) = {\n",
    "    val writer = new PrintWriter(file)\n",
    "    try {\n",
    "        op(writer)\n",
    "    } finally {\n",
    "        writer.close()\n",
    "    }\n",
    "}"
   ]
  },
  {
   "cell_type": "code",
   "execution_count": 13,
   "metadata": {
    "scrolled": true
   },
   "outputs": [
    {
     "data": {
      "text/plain": [
       "\u001b[32mimport \u001b[39m\u001b[36mjava.io\n",
       "\u001b[39m\n",
       "\u001b[36mfile\u001b[39m: \u001b[32mFile\u001b[39m = tmp.txt"
      ]
     },
     "execution_count": 13,
     "metadata": {},
     "output_type": "execute_result"
    }
   ],
   "source": [
    "// 引数がひとつの場合のメソッド呼び出しには、\n",
    "// 中括弧が使えるというシンタックス\n",
    "import java.io\n",
    "val file = new File(\"tmp.txt\")                                                                                                                                                                         \n",
    "withPrintWriter(file) { writer =>\n",
    "   writer.println(new java.util.Date)\n",
    "}"
   ]
  },
  {
   "cell_type": "code",
   "execution_count": 14,
   "metadata": {
    "scrolled": true
   },
   "outputs": [
    {
     "data": {
      "text/plain": [
       "\u001b[32mimport \u001b[39m\u001b[36mjava.io\n",
       "\u001b[39m\n",
       "\u001b[36mfile\u001b[39m: \u001b[32mFile\u001b[39m = tmp.txt"
      ]
     },
     "execution_count": 14,
     "metadata": {},
     "output_type": "execute_result"
    }
   ],
   "source": [
    "// そしてさらにこうすることができる！\n",
    "import java.io\n",
    "val file = new File(\"tmp.txt\")                                                                                                                                                                         \n",
    "withPrintWriter(file) {\n",
    "   _.println(new java.util.Date)\n",
    "}"
   ]
  },
  {
   "cell_type": "markdown",
   "metadata": {},
   "source": [
    "ポイントは\n",
    "* 引数がひとつだけの呼び出しは、中括弧を使うことができる。これで制御構文らしくなる。\n",
    "* 引数が複数なければならない場合でも、カリー化によって呼び出しをチェーンに変更して、中括弧を使える。\n",
    "* 関数値の引数が一回しか使われない場合、簡略化した記法をしようできる。"
   ]
  },
  {
   "cell_type": "markdown",
   "metadata": {},
   "source": [
    "## 名前渡しパラメータの使用(by-name parameter)\n",
    "名前渡しパラメータという機能を使うと、ある種のケースでより制御構文らしく書くことができる。"
   ]
  },
  {
   "cell_type": "code",
   "execution_count": 20,
   "metadata": {},
   "outputs": [
    {
     "data": {
      "text/html": [
       "<div class=\"jp-RenderedText\">\n",
       "<pre><code><span style=\"color: rgb(0, 187, 187)\"><span class=\"ansi-cyan-fg\">assertionEnabled</span></span>: <span style=\"color: rgb(0, 187, 0)\"><span class=\"ansi-green-fg\">Boolean</span></span> = <style>@keyframes fadein { from { opacity: 0; } to { opacity: 1; } }</style><span style=\"animation: fadein 2s;\">false</span>\n",
       "defined <span style=\"color: rgb(0, 187, 0)\"><span class=\"ansi-green-fg\">function</span></span> <span style=\"color: rgb(0, 187, 187)\"><span class=\"ansi-cyan-fg\">myAssert</span></span></code></pre>\n",
       "</div>"
      ],
      "text/plain": [
       "\u001b[36massertionEnabled\u001b[39m: \u001b[32mBoolean\u001b[39m = false\n",
       "defined \u001b[32mfunction\u001b[39m \u001b[36mmyAssert\u001b[39m"
      ]
     },
     "metadata": {},
     "output_type": "display_data"
    }
   ],
   "source": [
    "// 以下のように、Enable/Disable ができる Assertion を定義する。\n",
    "var assertionEnabled = true\n",
    "def myAssert(predicate: () => Boolean) =\n",
    "    if (assertionEnabled && !predicate()) throw new AssertionError\n",
    "    else println(\"Pass\")"
   ]
  },
  {
   "cell_type": "code",
   "execution_count": 22,
   "metadata": {},
   "outputs": [
    {
     "name": "stdout",
     "output_type": "stream",
     "text": [
      "Pass\n"
     ]
    },
    {
     "ename": "",
     "evalue": "",
     "output_type": "error",
     "traceback": [
      "\u001b[31mjava.lang.AssertionError\u001b[39m\n  ammonite.$sess.cmd19$Helper.myAssert(\u001b[32mcmd19.sc\u001b[39m:\u001b[32m5\u001b[39m)\n  ammonite.$sess.cmd21$Helper.<init>(\u001b[32mcmd21.sc\u001b[39m:\u001b[32m2\u001b[39m)\n  ammonite.$sess.cmd21$.<init>(\u001b[32mcmd21.sc\u001b[39m:\u001b[32m7\u001b[39m)\n  ammonite.$sess.cmd21$.<clinit>(\u001b[32mcmd21.sc\u001b[39m:\u001b[32m-1\u001b[39m)"
     ]
    }
   ],
   "source": [
    "// すると、このメソッドは以下のように使用できる。\n",
    "myAssert(() => 5 > 3)\n",
    "myAssert(() => 3 > 5)"
   ]
  },
  {
   "cell_type": "markdown",
   "metadata": {},
   "source": [
    "* しかし、この例では、`() =>`の部分がスマートでない。\n",
    "* 空パラメータの指定を省略したい。\n",
    "* こういった場合に、名前渡しパラメータを使うと、"
   ]
  },
  {
   "cell_type": "code",
   "execution_count": 23,
   "metadata": {},
   "outputs": [
    {
     "data": {
      "text/plain": [
       "defined \u001b[32mfunction\u001b[39m \u001b[36mmyAssert2\u001b[39m"
      ]
     },
     "execution_count": 23,
     "metadata": {},
     "output_type": "execute_result"
    }
   ],
   "source": [
    "def myAssert2(predicate: => Boolean) =\n",
    "   if (assertionEnabled && !predicate) throw new AssertionError\n",
    "    else println(\"Pass\")"
   ]
  },
  {
   "cell_type": "markdown",
   "metadata": {},
   "source": [
    "* predicate の呼び出しに、()がないことに注意\n",
    "* これで、空パラメータを省略できるようになった。"
   ]
  },
  {
   "cell_type": "code",
   "execution_count": 24,
   "metadata": {},
   "outputs": [
    {
     "name": "stdout",
     "output_type": "stream",
     "text": [
      "Pass\n"
     ]
    },
    {
     "ename": "",
     "evalue": "",
     "output_type": "error",
     "traceback": [
      "\u001b[31mjava.lang.AssertionError\u001b[39m\n  ammonite.$sess.cmd22$Helper.myAssert2(\u001b[32mcmd22.sc\u001b[39m:\u001b[32m2\u001b[39m)\n  ammonite.$sess.cmd23$Helper.<init>(\u001b[32mcmd23.sc\u001b[39m:\u001b[32m2\u001b[39m)\n  ammonite.$sess.cmd23$.<init>(\u001b[32mcmd23.sc\u001b[39m:\u001b[32m7\u001b[39m)\n  ammonite.$sess.cmd23$.<clinit>(\u001b[32mcmd23.sc\u001b[39m:\u001b[32m-1\u001b[39m)"
     ]
    }
   ],
   "source": [
    "myAssert2(5 > 3)\n",
    "myAssert2(5 > 5)"
   ]
  },
  {
   "cell_type": "markdown",
   "metadata": {},
   "source": [
    " * この方式でいいのは、評価が遅延されることである。\n",
    " * 以下の例では、エラーを起こす0除算でもエラーにならない。predicate が評価されていないからである。"
   ]
  },
  {
   "cell_type": "code",
   "execution_count": 25,
   "metadata": {},
   "outputs": [
    {
     "name": "stdout",
     "output_type": "stream",
     "text": [
      "Pass\n"
     ]
    }
   ],
   "source": [
    "assertionEnabled = false\n",
    "myAssert2(5 / 0 == 0)"
   ]
  },
  {
   "cell_type": "markdown",
   "metadata": {},
   "source": []
  }
 ],
 "metadata": {
  "kernelspec": {
   "display_name": "Scala",
   "language": "scala",
   "name": "scala"
  },
  "language_info": {
   "codemirror_mode": "text/x-scala",
   "file_extension": ".scala",
   "mimetype": "text/x-scala",
   "name": "scala",
   "nbconvert_exporter": "script",
   "version": "2.12.9"
  }
 },
 "nbformat": 4,
 "nbformat_minor": 2
}
